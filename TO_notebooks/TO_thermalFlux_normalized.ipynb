{
 "cells": [
  {
   "cell_type": "code",
   "execution_count": 1,
   "metadata": {},
   "outputs": [],
   "source": [
    "import matplotlib.pyplot as plt\n",
    "% matplotlib inline"
   ]
  },
  {
   "cell_type": "code",
   "execution_count": 34,
   "metadata": {},
   "outputs": [],
   "source": [
    "import nlopt\n",
    "import autograd.numpy as np\n",
    "import autograd\n",
    "import flux_center"
   ]
  },
  {
   "cell_type": "code",
   "execution_count": 3,
   "metadata": {},
   "outputs": [],
   "source": [
    "def penalty(x):\n",
    "    return sum(x*(1-x))\n",
    "\n",
    "def grad_penalty(x):\n",
    "    return (1 - 2 * x)\n",
    "    \n",
    "    \n",
    "def thresholding(x, eta=0.5, beta = 1):\n",
    "    return (np.tanh(eta*beta) + np.tanh((x - eta)*beta))/(np.tanh(eta*beta) + np.tanh((1 - eta)*beta))\n",
    "\n",
    "grad_thresholding = autograd.elementwise_grad(thresholding)\n",
    "\n",
    "def optimization_withthresholdingNpenalty(x1, coefpenalty=0., beta = 1, eta = 0.2, debug=False):\n",
    "    trajectory = []\n",
    "\n",
    "    while not np.all(np.isclose( 1.*(thresholding(x1, eta=eta, beta=beta)>eta), thresholding(x1, eta=eta, beta=eta),atol=1e-01)):\n",
    "        if debug:\n",
    "            print(\"beta=\", beta)\n",
    "        def myfunc(x, grad, debug=debug):\n",
    "        #     print(thresholding(x, eta=eta, beta=beta))\n",
    "            flux, gradval = flux_center.center_flux_normalized_grad(np.reshape(thresholding(x, eta=eta, beta=beta),(1, 25)))\n",
    "            gradval = gradval*grad_thresholding(x, eta=eta, beta=beta)  - grad_thresholding(x, eta=eta, beta=beta)*grad_penalty(thresholding(x, eta=eta, beta=beta))*coefpenalty\n",
    "            if grad.size > 0:\n",
    "                grad[:] = np.ravel(gradval[:]).tolist() #to avoid different type returned\n",
    "                if debug:\n",
    "                    print(flux, \",\")\n",
    "                trajectory.append(flux)\n",
    "            return flux-penalty(thresholding(x))*coefpenalty\n",
    "        opt = nlopt.opt(nlopt.LD_MMA, 25)\n",
    "        opt.set_lower_bounds(np.zeros(25))\n",
    "        opt.set_upper_bounds(np.ones(25))\n",
    "        opt.set_max_objective(myfunc)\n",
    "        opt.set_xtol_rel(1e-3)\n",
    "        opt.set_ftol_rel(1e-3)\n",
    "        x = opt.optimize(x1)\n",
    "        maxf = opt.last_optimum_value()\n",
    "        if np.all(np.isclose(thresholding(x1, eta=eta, beta=beta), thresholding(x, eta=eta, beta=beta))) or beta>2^16:\n",
    "            return x, beta, trajectory\n",
    "        else:\n",
    "            x1 = x\n",
    "        beta = 2*beta\n",
    "    return x1, beta, trajectory\n",
    "        "
   ]
  },
  {
   "cell_type": "code",
   "execution_count": 4,
   "metadata": {},
   "outputs": [
    {
     "data": {
      "text/plain": [
       "array([0.0889743 , 0.42738968, 0.87783954, 0.23952464, 0.93311497,\n",
       "       0.48497023, 0.2272896 , 0.52952177, 0.98148194, 0.69334115,\n",
       "       0.37235015, 0.85415202, 0.91146617, 0.4648216 , 0.65196218,\n",
       "       0.39024344, 0.44161757, 0.72846072, 0.07791953, 0.78242183,\n",
       "       0.13086544, 0.53609705, 0.14088034, 0.4873372 , 0.73275151])"
      ]
     },
     "execution_count": 4,
     "metadata": {},
     "output_type": "execute_result"
    }
   ],
   "source": [
    "x0 = np.random.rand(25)\n",
    "x0"
   ]
  },
  {
   "cell_type": "code",
   "execution_count": 5,
   "metadata": {},
   "outputs": [
    {
     "data": {
      "text/plain": [
       "(0.29394550771125705,\n",
       " array([ 0.03584578,  0.05110718,  0.02688598,  0.01496526,  0.08804792,\n",
       "         0.03154793, -0.00099007,  0.08110772,  0.03319638,  0.0231407 ,\n",
       "         0.03106965,  0.03068958, -0.7317209 ,  0.01523443,  0.00204714,\n",
       "         0.01676153,  0.00144068,  0.04507051, -0.02088084, -0.00762234,\n",
       "         0.00474189,  0.02380093,  0.05536612,  0.02688134, -0.01508206],\n",
       "       dtype=float32))"
      ]
     },
     "execution_count": 5,
     "metadata": {},
     "output_type": "execute_result"
    }
   ],
   "source": [
    "flux_center.center_flux_normalized_grad(x0)"
   ]
  },
  {
   "cell_type": "code",
   "execution_count": 6,
   "metadata": {},
   "outputs": [],
   "source": [
    "def fd_grad(f, p):\n",
    "    delta = 1e-2\n",
    "    grad = []\n",
    "    perturb = p * 0.\n",
    "    for i in range(len(p)):\n",
    "        perturb[i] += delta\n",
    "        grad.append((f(p+perturb)-f(p-perturb))/2/delta)\n",
    "        perturb[i] -= delta\n",
    "    return grad"
   ]
  },
  {
   "cell_type": "code",
   "execution_count": 7,
   "metadata": {},
   "outputs": [],
   "source": [
    "fdgrad = fd_grad(lambda x: flux_center.center_flux_normalized_grad(x)[0], x0)"
   ]
  },
  {
   "cell_type": "code",
   "execution_count": 8,
   "metadata": {},
   "outputs": [
    {
     "data": {
      "text/plain": [
       "[0.03604089581390191,\n",
       " 0.050910084739980155,\n",
       " 0.02724963726472296,\n",
       " 0.015170624391089294,\n",
       " 0.08683775823254691,\n",
       " 0.02942308052355791,\n",
       " -0.0013445466763489788,\n",
       " 0.08053826147621235,\n",
       " 0.03323895738558125,\n",
       " 0.02466909788231275,\n",
       " 0.030827598776317355,\n",
       " 0.029703523351501393,\n",
       " -0.7323491268950183,\n",
       " 0.015309554532014213,\n",
       " 0.003989141078872271,\n",
       " 0.015883184498477476,\n",
       " 0.002245742112416682,\n",
       " 0.045127917331266865,\n",
       " -0.022112457556655585,\n",
       " -0.009059024107246905,\n",
       " 0.004876131656450511,\n",
       " 0.01819206133054363,\n",
       " 0.047518426129317115,\n",
       " 0.024411283020642216,\n",
       " -0.012717806000361875]"
      ]
     },
     "execution_count": 8,
     "metadata": {},
     "output_type": "execute_result"
    }
   ],
   "source": [
    "fdgrad"
   ]
  },
  {
   "cell_type": "code",
   "execution_count": 9,
   "metadata": {},
   "outputs": [],
   "source": [
    "# x1, beta, traj = optimization_withthresholdingNpenalty(x0, coefpenalty=1/25)"
   ]
  },
  {
   "cell_type": "code",
   "execution_count": 10,
   "metadata": {},
   "outputs": [],
   "source": [
    "# optimum = thresholding(x1, eta=eta, beta=beta)\n",
    "# optimum"
   ]
  },
  {
   "cell_type": "code",
   "execution_count": 11,
   "metadata": {},
   "outputs": [],
   "source": [
    "# flux_center.center_flux_normalized_grad(optimum)"
   ]
  },
  {
   "cell_type": "code",
   "execution_count": 12,
   "metadata": {},
   "outputs": [],
   "source": [
    "# binarized = 1.*(thresholding(x1, eta=eta, beta=beta)>eta)\n",
    "# binarized"
   ]
  },
  {
   "cell_type": "code",
   "execution_count": 13,
   "metadata": {},
   "outputs": [],
   "source": [
    "# flux_center.center_flux_normalized_grad(binarized)"
   ]
  },
  {
   "cell_type": "code",
   "execution_count": 14,
   "metadata": {},
   "outputs": [],
   "source": [
    "def summaryopt(x0, coefpenalty=0., beta = 1, eta = 0.2):\n",
    "    x1, beta, traj = optimization_withthresholdingNpenalty(x0, coefpenalty=coefpenalty, beta=beta, eta=eta)\n",
    "    optimum = thresholding(x1, eta=eta, beta=beta)\n",
    "    print(flux_center.center_flux_normalized_grad(optimum)[0])\n",
    "    binarized = 1.*(thresholding(x1, eta=eta, beta=beta)>eta)\n",
    "    endval = flux_center.center_flux_normalized_grad(binarized)[0]\n",
    "    print(endval, binarized)\n",
    "    return endval, x1, optimum, binarized, traj"
   ]
  },
  {
   "cell_type": "code",
   "execution_count": 52,
   "metadata": {},
   "outputs": [
    {
     "name": "stdout",
     "output_type": "stream",
     "text": [
      "2.2668049682852236\n",
      "2.2667444110626014 [1. 1. 1. 1. 1. 1. 1. 1. 1. 1. 0. 0. 0. 0. 0. 1. 1. 1. 1. 0. 1. 1. 1. 1.\n",
      " 1.]\n",
      "34\n",
      "2.446877816517786\n"
     ]
    }
   ],
   "source": [
    "x0 = np.random.rand(25)\n",
    "\n",
    "endval, x1, optimum, binarized, traj0 = summaryopt(x0)\n",
    "print(len(traj0))\n",
    "print(flux_center.center_flux_normalized(binarized))\n",
    "traj0.append(flux_center.center_flux_normalized(binarized))"
   ]
  },
  {
   "cell_type": "code",
   "execution_count": 74,
   "metadata": {},
   "outputs": [
    {
     "name": "stdout",
     "output_type": "stream",
     "text": [
      "2.266943159344508\n",
      "2.2667444110626014 [1. 1. 1. 1. 1. 1. 1. 1. 1. 1. 0. 0. 0. 0. 0. 1. 1. 1. 1. 0. 1. 1. 1. 1.\n",
      " 1.]\n",
      "34\n",
      "2.446877816517786\n"
     ]
    }
   ],
   "source": [
    "x2 = np.random.rand(25)\n",
    "\n",
    "endval, x1, optimum, binarized, traj2 = summaryopt(x2)\n",
    "print(len(traj2))\n",
    "print(flux_center.center_flux_normalized(binarized))\n",
    "traj2.append(flux_center.center_flux_normalized(binarized))"
   ]
  },
  {
   "cell_type": "code",
   "execution_count": 75,
   "metadata": {},
   "outputs": [
    {
     "name": "stdout",
     "output_type": "stream",
     "text": [
      "2.013043064715399\n",
      "1.9585416202187607 [0. 1. 1. 1. 1. 1. 0. 1. 0. 1. 1. 0. 0. 0. 1. 1. 0. 1. 0. 1. 1. 1. 1. 1.\n",
      " 0.]\n",
      "67\n",
      "2.111239209629362\n"
     ]
    }
   ],
   "source": [
    "x3 = np.random.rand(25)\n",
    "\n",
    "endval, x1, optimum, binarized, traj3 = summaryopt(x3)\n",
    "print(len(traj3))\n",
    "print(flux_center.center_flux_normalized(binarized))\n",
    "traj3.append(flux_center.center_flux_normalized(binarized))"
   ]
  },
  {
   "cell_type": "code",
   "execution_count": 38,
   "metadata": {},
   "outputs": [
    {
     "name": "stdout",
     "output_type": "stream",
     "text": [
      "2.272491220252499\n",
      "2.2667444110626014 [1. 1. 1. 1. 1. 1. 1. 1. 1. 1. 0. 0. 0. 0. 0. 1. 1. 1. 1. 0. 1. 1. 1. 1.\n",
      " 1.]\n",
      "34\n",
      "2.446877816517786\n"
     ]
    }
   ],
   "source": [
    "x4 = np.random.rand(25)\n",
    "\n",
    "endval, x1, optimum, binarized, traj4 = summaryopt(x4)\n",
    "print(len(traj4))\n",
    "print(flux_center.center_flux_normalized(binarized))\n",
    "traj4.append(flux_center.center_flux_normalized(binarized))"
   ]
  },
  {
   "cell_type": "code",
   "execution_count": 71,
   "metadata": {},
   "outputs": [
    {
     "name": "stdout",
     "output_type": "stream",
     "text": [
      "2.275708540182546\n",
      "2.2667444110626014 [1. 1. 1. 1. 1. 1. 1. 1. 1. 1. 0. 0. 0. 0. 0. 1. 1. 1. 1. 0. 1. 1. 1. 1.\n",
      " 1.]\n",
      "34\n",
      "2.446877816517786\n"
     ]
    }
   ],
   "source": [
    "x5 = np.random.rand(25)\n",
    "\n",
    "endval, x1, optimum, binarized, traj5 = summaryopt(x5)\n",
    "print(len(traj5))\n",
    "print(flux_center.center_flux_normalized(binarized))\n",
    "traj5.append(flux_center.center_flux_normalized(binarized))"
   ]
  },
  {
   "cell_type": "code",
   "execution_count": 20,
   "metadata": {},
   "outputs": [
    {
     "name": "stdout",
     "output_type": "stream",
     "text": [
      "2.24541817093486\n",
      "2.245363455250344 [1. 1. 1. 1. 1. 1. 1. 1. 1. 1. 0. 0. 0. 0. 0. 1. 1. 1. 1. 1. 1. 1. 1. 1.\n",
      " 1.]\n",
      "29\n",
      "2.43466232370736\n"
     ]
    }
   ],
   "source": [
    "x6 = np.random.rand(25)\n",
    "\n",
    "endval, x1, optimum, binarized, traj6 = summaryopt(x6)\n",
    "print(len(traj6))\n",
    "print(flux_center.center_flux_normalized(binarized))\n",
    "traj6.append(flux_center.center_flux_normalized(binarized))"
   ]
  },
  {
   "cell_type": "code",
   "execution_count": 40,
   "metadata": {},
   "outputs": [
    {
     "name": "stdout",
     "output_type": "stream",
     "text": [
      "2.27252045428052\n",
      "2.245363455250344 [1. 1. 1. 1. 1. 1. 1. 1. 1. 1. 0. 0. 0. 0. 0. 1. 1. 1. 1. 1. 1. 1. 1. 1.\n",
      " 1.]\n",
      "30\n",
      "2.43466232370736\n"
     ]
    }
   ],
   "source": [
    "x7 = np.random.rand(25)\n",
    "\n",
    "endval, x1, optimum, binarized, traj7 = summaryopt(x7)\n",
    "print(len(traj7))\n",
    "print(flux_center.center_flux_normalized(binarized))\n",
    "traj7.append(flux_center.center_flux_normalized(binarized))"
   ]
  },
  {
   "cell_type": "code",
   "execution_count": 76,
   "metadata": {},
   "outputs": [
    {
     "name": "stdout",
     "output_type": "stream",
     "text": [
      "2.266905685729875\n",
      "2.2667444110626014 [1. 1. 1. 1. 1. 1. 1. 1. 1. 1. 0. 0. 0. 0. 0. 1. 1. 1. 1. 0. 1. 1. 1. 1.\n",
      " 1.]\n",
      "27\n",
      "2.446877816517786\n"
     ]
    }
   ],
   "source": [
    "x8 = np.random.rand(25)\n",
    "\n",
    "endval, x1, optimum, binarized, traj8 = summaryopt(x8)\n",
    "print(len(traj8))\n",
    "print(flux_center.center_flux_normalized(binarized))\n",
    "traj8.append(flux_center.center_flux_normalized(binarized))"
   ]
  },
  {
   "cell_type": "code",
   "execution_count": 57,
   "metadata": {},
   "outputs": [
    {
     "name": "stdout",
     "output_type": "stream",
     "text": [
      "2.266796456604001\n",
      "2.2667444110626014 [1. 1. 1. 1. 1. 1. 1. 1. 1. 1. 0. 0. 0. 0. 0. 1. 1. 1. 1. 0. 1. 1. 1. 1.\n",
      " 1.]\n",
      "32\n",
      "2.446877816517786\n"
     ]
    }
   ],
   "source": [
    "x9 = np.random.rand(25)\n",
    "\n",
    "endval, x1, optimum, binarized, traj9 = summaryopt(x9)\n",
    "print(len(traj9))\n",
    "print(flux_center.center_flux_normalized(binarized))\n",
    "traj9.append(flux_center.center_flux_normalized(binarized))"
   ]
  },
  {
   "cell_type": "code",
   "execution_count": 77,
   "metadata": {},
   "outputs": [
    {
     "name": "stdout",
     "output_type": "stream",
     "text": [
      "2.2727874966191743\n",
      "2.2667444110626014 [1. 1. 1. 1. 1. 1. 1. 1. 1. 1. 0. 0. 0. 0. 0. 1. 1. 1. 1. 0. 1. 1. 1. 1.\n",
      " 1.]\n",
      "39\n",
      "2.446877816517786\n"
     ]
    }
   ],
   "source": [
    "x10 = np.random.rand(25)\n",
    "\n",
    "endval, x1, optimum, binarized, traj10 = summaryopt(x10)\n",
    "print(len(traj10))\n",
    "print(flux_center.center_flux_normalized(binarized))\n",
    "traj10.append(flux_center.center_flux_normalized(binarized))"
   ]
  },
  {
   "cell_type": "code",
   "execution_count": 78,
   "metadata": {},
   "outputs": [
    {
     "data": {
      "text/plain": [
       "(0.0, 30.0, 0.0, 2.5)"
      ]
     },
     "execution_count": 78,
     "metadata": {},
     "output_type": "execute_result"
    },
    {
     "data": {
      "image/png": "[encoded data removed]",
      "text/plain": [
       "<Figure size 640x480 with 1 Axes>"
      ]
     },
     "metadata": {},
     "output_type": "display_data"
    }
   ],
   "source": [
    "\n",
    "plt.plot(traj6)\n",
    "plt.plot(traj7)\n",
    "plt.plot(traj8)\n",
    "plt.axis(\"on\")"
   ]
  },
  {
   "cell_type": "code",
   "execution_count": null,
   "metadata": {},
   "outputs": [],
   "source": []
  },
  {
   "cell_type": "code",
   "execution_count": null,
   "metadata": {},
   "outputs": [],
   "source": []
  },
  {
   "cell_type": "code",
   "execution_count": null,
   "metadata": {},
   "outputs": [],
   "source": []
  },
  {
   "cell_type": "code",
   "execution_count": 79,
   "metadata": {},
   "outputs": [],
   "source": [
    "import numpy as np\n",
    "\n",
    "fname = \"optimizationcurve_fig8_3.txt\"\n",
    "\n",
    "A = [\n",
    "traj6,\n",
    "traj7,\n",
    "traj8]\n",
    "\n",
    "le = []\n",
    "for li in A:\n",
    "    le.append((len(li)))\n",
    "\n",
    "mv = np.max(le)\n",
    "\n",
    "Ar = []\n",
    "for li in A:\n",
    "    temp = np.ones(mv) * li[-1]\n",
    "    temp[:len(li)] = li\n",
    "    Ar.append(temp)\n",
    "\n",
    "Arf = np.reshape(Ar,(len(A),-1))"
   ]
  },
  {
   "cell_type": "code",
   "execution_count": 80,
   "metadata": {},
   "outputs": [
    {
     "data": {
      "text/plain": [
       "[<matplotlib.lines.Line2D at 0x7fb937923780>,\n",
       " <matplotlib.lines.Line2D at 0x7fb9379238d0>,\n",
       " <matplotlib.lines.Line2D at 0x7fb937923a20>]"
      ]
     },
     "execution_count": 80,
     "metadata": {},
     "output_type": "execute_result"
    },
    {
     "data": {
      "image/png": "[encoded data removed]",
      "text/plain": [
       "<Figure size 640x480 with 1 Axes>"
      ]
     },
     "metadata": {},
     "output_type": "display_data"
    }
   ],
   "source": [
    "plt.plot(np.transpose(Arf))"
   ]
  },
  {
   "cell_type": "code",
   "execution_count": 81,
   "metadata": {},
   "outputs": [],
   "source": [
    "np.savetxt(fname, Arf, delimiter=',')"
   ]
  },
  {
   "cell_type": "code",
   "execution_count": null,
   "metadata": {},
   "outputs": [],
   "source": []
  }
 ],
 "metadata": {
  "kernelspec": {
   "display_name": "Python [default]",
   "language": "python",
   "name": "python3"
  },
  "language_info": {
   "codemirror_mode": {
    "name": "ipython",
    "version": 3
   },
   "file_extension": ".py",
   "mimetype": "text/x-python",
   "name": "python",
   "nbconvert_exporter": "python",
   "pygments_lexer": "ipython3",
   "version": "3.6.7"
  }
 },
 "nbformat": 4,
 "nbformat_minor": 2
}
