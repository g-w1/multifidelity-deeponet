{
 "cells": [
  {
   "cell_type": "code",
   "execution_count": 1,
   "metadata": {},
   "outputs": [],
   "source": [
    "import matplotlib.pyplot as plt\n",
    "% matplotlib inline"
   ]
  },
  {
   "cell_type": "code",
   "execution_count": 2,
   "metadata": {},
   "outputs": [
    {
     "name": "stderr",
     "output_type": "stream",
     "text": [
      "Using backend: tensorflow.compat.v1\n",
      "\n"
     ]
    },
    {
     "name": "stdout",
     "output_type": "stream",
     "text": [
      "WARNING:tensorflow:From /Users/raphaelpestourie/miniconda3/lib/python3.6/site-packages/tensorflow/python/compat/v2_compat.py:101: disable_resource_variables (from tensorflow.python.ops.variable_scope) is deprecated and will be removed in a future version.\n",
      "Instructions for updating:\n",
      "non-resource variables are not supported in the long term\n",
      "WARNING:tensorflow:From /Users/raphaelpestourie/miniconda3/lib/python3.6/site-packages/deepxde/nn/initializers.py:120: The name tf.keras.initializers.he_normal is deprecated. Please use tf.compat.v1.keras.initializers.he_normal instead.\n",
      "\n",
      "Compiling model...\n",
      "Building DeepONet...\n",
      "'build' took 0.155788 s\n",
      "\n"
     ]
    },
    {
     "name": "stderr",
     "output_type": "stream",
     "text": [
      "/Users/raphaelpestourie/miniconda3/lib/python3.6/site-packages/keras/legacy_tf_layers/core.py:236: UserWarning: `tf.layers.dense` is deprecated and will be removed in a future version. Please use `tf.keras.layers.Dense` instead.\n",
      "  warnings.warn('`tf.layers.dense` is deprecated and '\n",
      "/Users/raphaelpestourie/miniconda3/lib/python3.6/site-packages/keras/engine/base_layer_v1.py:1676: UserWarning: `layer.apply` is deprecated and will be removed in a future version. Please use `layer.__call__` method instead.\n",
      "  warnings.warn('`layer.apply` is deprecated and '\n"
     ]
    },
    {
     "name": "stdout",
     "output_type": "stream",
     "text": [
      "'compile' took 0.469251 s\n",
      "\n",
      "Restoring model from model_low/model.ckpt-486000 ...\n",
      "\n",
      "INFO:tensorflow:Restoring parameters from model_low/model.ckpt-486000\n",
      "Compiling model...\n",
      "Building DeepONet...\n",
      "'build' took 0.093906 s\n",
      "\n",
      "'compile' took 0.342351 s\n",
      "\n",
      "Restoring model from model_high/model.ckpt-398000 ...\n",
      "\n",
      "INFO:tensorflow:Restoring parameters from model_high/model.ckpt-398000\n"
     ]
    }
   ],
   "source": [
    "import nlopt\n",
    "import autograd.numpy as np\n",
    "import autograd\n",
    "import flux_center"
   ]
  },
  {
   "cell_type": "code",
   "execution_count": 3,
   "metadata": {},
   "outputs": [],
   "source": [
    "def penalty(x):\n",
    "    return sum(x*(1-x))\n",
    "\n",
    "def grad_penalty(x):\n",
    "    return (1 - 2 * x)\n",
    "    \n",
    "    \n",
    "def thresholding(x, eta=0.5, beta = 1):\n",
    "    return (np.tanh(eta*beta) + np.tanh((x - eta)*beta))/(np.tanh(eta*beta) + np.tanh((1 - eta)*beta))\n",
    "\n",
    "grad_thresholding = autograd.elementwise_grad(thresholding)\n",
    "\n",
    "def optimization_withthresholdingNpenalty(x1, coefpenalty=0., beta = 1, eta = 0.2, debug=False):\n",
    "    trajectory = []\n",
    "\n",
    "    while not np.all(np.isclose( 1.*(thresholding(x1, eta=eta, beta=beta)>eta), thresholding(x1, eta=eta, beta=eta),atol=1e-01)):\n",
    "        if debug:\n",
    "            print(\"beta=\", beta)\n",
    "        def myfunc(x, grad, debug=debug):\n",
    "        #     print(thresholding(x, eta=eta, beta=beta))\n",
    "            flux, gradval = flux_center.two_points_flux_normalized_grad(np.reshape(thresholding(x, eta=eta, beta=beta),(1, 25)))\n",
    "            gradval = gradval*grad_thresholding(x, eta=eta, beta=beta)  - grad_thresholding(x, eta=eta, beta=beta)*grad_penalty(thresholding(x, eta=eta, beta=beta))*coefpenalty\n",
    "            if grad.size > 0:\n",
    "                grad[:] = np.ravel(gradval[:]).tolist() #to avoid different type returned\n",
    "                if debug:\n",
    "                    print(flux, \",\")\n",
    "                trajectory.append(flux)\n",
    "            return flux-penalty(thresholding(x))*coefpenalty\n",
    "        opt = nlopt.opt(nlopt.LD_MMA, 25)\n",
    "        opt.set_lower_bounds(np.zeros(25))\n",
    "        opt.set_upper_bounds(np.ones(25))\n",
    "        opt.set_max_objective(myfunc)\n",
    "        opt.set_xtol_rel(1e-3)\n",
    "        opt.set_ftol_rel(1e-3)\n",
    "        x = opt.optimize(x1)\n",
    "        maxf = opt.last_optimum_value()\n",
    "        if np.all(np.isclose(thresholding(x1, eta=eta, beta=beta), thresholding(x, eta=eta, beta=beta))) or beta>2^16:\n",
    "            return x, beta, trajectory\n",
    "        else:\n",
    "            x1 = x\n",
    "        beta = 2*beta\n",
    "    return x1, beta, trajectory\n",
    "        "
   ]
  },
  {
   "cell_type": "code",
   "execution_count": 4,
   "metadata": {},
   "outputs": [
    {
     "data": {
      "text/plain": [
       "array([0.94392362, 0.06140669, 0.82105389, 0.14676124, 0.33508606,\n",
       "       0.15369374, 0.98455039, 0.5862978 , 0.97655602, 0.46668314,\n",
       "       0.8265829 , 0.81399083, 0.26912209, 0.01799744, 0.50664376,\n",
       "       0.2107222 , 0.97309686, 0.93655569, 0.17373117, 0.60918428,\n",
       "       0.42502687, 0.63840342, 0.4819686 , 0.05197845, 0.31596261])"
      ]
     },
     "execution_count": 4,
     "metadata": {},
     "output_type": "execute_result"
    }
   ],
   "source": [
    "x0 = np.random.rand(25)\n",
    "x0"
   ]
  },
  {
   "cell_type": "code",
   "execution_count": 5,
   "metadata": {},
   "outputs": [
    {
     "data": {
      "text/plain": [
       "(0.7929497124123699,\n",
       " array([-0.02394208,  0.00276016,  0.0173717 ,  0.01733063,  0.00191719,\n",
       "        -0.11637273, -0.42225283, -0.09165456,  0.01109745, -0.08558205,\n",
       "        -0.05960622,  0.06785036, -0.18343462, -0.46690378, -0.09649845,\n",
       "        -0.01367853,  0.02785581,  0.0038442 ,  0.07187378, -0.01498195,\n",
       "         0.05895279,  0.08442062,  0.04071531,  0.10099208,  0.06016766],\n",
       "       dtype=float32))"
      ]
     },
     "execution_count": 5,
     "metadata": {},
     "output_type": "execute_result"
    }
   ],
   "source": [
    "flux_center.two_points_flux_normalized_grad(x0)"
   ]
  },
  {
   "cell_type": "code",
   "execution_count": 6,
   "metadata": {},
   "outputs": [],
   "source": [
    "def fd_grad(f, p):\n",
    "    delta = 1e-3\n",
    "    grad = []\n",
    "    perturb = p * 0.\n",
    "    for i in range(len(p)):\n",
    "        perturb[i] += delta\n",
    "        grad.append((f(p+perturb)-f(p-perturb))/2/delta)\n",
    "        perturb[i] -= delta\n",
    "    return grad"
   ]
  },
  {
   "cell_type": "code",
   "execution_count": 7,
   "metadata": {},
   "outputs": [],
   "source": [
    "fdgrad = fd_grad(lambda x: flux_center.two_points_flux_normalized_grad(x)[0], x0)"
   ]
  },
  {
   "cell_type": "code",
   "execution_count": 8,
   "metadata": {},
   "outputs": [
    {
     "data": {
      "text/plain": [
       "[-0.024020957706871737,\n",
       " 0.002967873539982957,\n",
       " 0.017243452691162453,\n",
       " 0.01735484608467175,\n",
       " 0.0019800481089737865,\n",
       " -0.11642458603039474,\n",
       " -0.4223074144952821,\n",
       " -0.0916233257585719,\n",
       " 0.010867980600126614,\n",
       " -0.08550906917031975,\n",
       " -0.059428689129781276,\n",
       " 0.06779303006282378,\n",
       " -0.1834784660123545,\n",
       " -0.466891162170191,\n",
       " -0.09622288186406092,\n",
       " -0.013674503967220364,\n",
       " 0.027960974790741666,\n",
       " 0.003769046886759053,\n",
       " 0.07175006449788857,\n",
       " -0.014866173813021799,\n",
       " 0.05913723258221815,\n",
       " 0.08455965280768085,\n",
       " 0.04066317225692728,\n",
       " 0.10111186228994873,\n",
       " 0.06029185247991009]"
      ]
     },
     "execution_count": 8,
     "metadata": {},
     "output_type": "execute_result"
    }
   ],
   "source": [
    "fdgrad"
   ]
  },
  {
   "cell_type": "code",
   "execution_count": null,
   "metadata": {},
   "outputs": [],
   "source": []
  },
  {
   "cell_type": "code",
   "execution_count": 9,
   "metadata": {},
   "outputs": [],
   "source": [
    "def summaryopt(x, coefpenalty=0., beta = 1, eta = 0.2):\n",
    "    x1, beta, traj = optimization_withthresholdingNpenalty(x, coefpenalty=coefpenalty, beta=beta, eta=eta)\n",
    "    optimum = thresholding(x1, eta=eta, beta=beta)\n",
    "    print(flux_center.two_points_flux_normalized_grad(optimum)[0])\n",
    "    binarized = 1.*(thresholding(x1, eta=eta, beta=beta)>eta)\n",
    "    endval = flux_center.two_points_flux_normalized_grad(binarized)[0]\n",
    "    print(endval, binarized)\n",
    "    return endval, x1, optimum, binarized, traj"
   ]
  },
  {
   "cell_type": "code",
   "execution_count": 10,
   "metadata": {},
   "outputs": [
    {
     "name": "stdout",
     "output_type": "stream",
     "text": [
      "1.850472565866864\n",
      "1.8505118819403295 [0. 1. 1. 1. 1. 0. 0. 0. 1. 0. 0. 1. 0. 0. 0. 1. 1. 1. 1. 1. 1. 1. 1. 1.\n",
      " 1.]\n",
      "(1.8505118819403295, array([-0.00472543,  0.10812294,  0.0628814 ,  0.03848882,  0.01024044,\n",
      "       -0.20714517, -0.4282934 , -0.13321184, -0.02867275, -0.11573575,\n",
      "       -0.13198356,  0.0336336 , -0.2058827 , -0.45457292, -0.21034724,\n",
      "        0.02169596,  0.00756916,  0.03891854,  0.09787644, -0.017301  ,\n",
      "        0.01003337,  0.07843277,  0.02924745,  0.08240139, -0.0023332 ],\n",
      "      dtype=float32))\n"
     ]
    }
   ],
   "source": [
    "x0 = np.random.rand(25)\n",
    "\n",
    "endval, x1, optimum, binarized, traj0 = summaryopt(x0)\n",
    "print(flux_center.two_points_flux_normalized_grad(binarized))\n",
    "traj0.append(flux_center.two_points_flux_normalized(binarized))"
   ]
  },
  {
   "cell_type": "code",
   "execution_count": 11,
   "metadata": {},
   "outputs": [
    {
     "name": "stdout",
     "output_type": "stream",
     "text": [
      "1.8604711576597366\n",
      "1.8589709984947924 [1. 1. 1. 1. 1. 0. 0. 0. 1. 1. 0. 1. 0. 0. 0. 1. 1. 1. 1. 1. 1. 1. 1. 1.\n",
      " 1.]\n",
      "(1.8589709984947924, array([ 0.03450595,  0.10386539,  0.01055755,  0.07353457, -0.01282038,\n",
      "       -0.11825943, -0.42633268, -0.07852364,  0.06559303,  0.01273739,\n",
      "       -0.11505818,  0.07191648, -0.20583764, -0.43367824, -0.20896056,\n",
      "        0.03452333,  0.03583333,  0.05462287,  0.10816482,  0.01847796,\n",
      "        0.02101385,  0.12257644,  0.03339486,  0.09745789,  0.02827155],\n",
      "      dtype=float32))\n"
     ]
    }
   ],
   "source": [
    "x2 = np.random.rand(25)\n",
    "\n",
    "endval, x1, optimum, binarized, traj2 = summaryopt(x2)\n",
    "print(flux_center.two_points_flux_normalized_grad(binarized))\n",
    "traj2.append(flux_center.two_points_flux_normalized(binarized))"
   ]
  },
  {
   "cell_type": "code",
   "execution_count": 12,
   "metadata": {},
   "outputs": [
    {
     "name": "stdout",
     "output_type": "stream",
     "text": [
      "1.8561791273738941\n",
      "1.8561305855914856 [0. 1. 1. 1. 1. 0. 0. 0. 1. 1. 0. 1. 0. 0. 0. 1. 1. 1. 1. 0. 1. 1. 1. 1.\n",
      " 1.]\n",
      "(1.8561305855914856, array([ 0.03547794,  0.1463218 ,  0.06699374,  0.04733054, -0.01440372,\n",
      "       -0.08500209, -0.42958674, -0.06272772,  0.0759417 , -0.04069412,\n",
      "       -0.13078241,  0.04080082, -0.2582629 , -0.47318062, -0.24697481,\n",
      "        0.05108225,  0.01770336,  0.05828651,  0.1041455 , -0.01920758,\n",
      "        0.01290726,  0.07967239,  0.06679036,  0.08536719, -0.02680326],\n",
      "      dtype=float32))\n"
     ]
    }
   ],
   "source": [
    "x3 = np.random.rand(25)\n",
    "\n",
    "endval, x1, optimum, binarized, traj3 = summaryopt(x3)\n",
    "print(flux_center.two_points_flux_normalized_grad(binarized))\n",
    "traj3.append(flux_center.two_points_flux_normalized(binarized))"
   ]
  },
  {
   "cell_type": "code",
   "execution_count": 13,
   "metadata": {},
   "outputs": [
    {
     "name": "stdout",
     "output_type": "stream",
     "text": [
      "1.8587015632021813\n",
      "1.8589709984947924 [1. 1. 1. 1. 1. 0. 0. 0. 1. 1. 0. 1. 0. 0. 0. 1. 1. 1. 1. 1. 1. 1. 1. 1.\n",
      " 1.]\n",
      "(1.8589709984947924, array([ 0.03450595,  0.10386539,  0.01055755,  0.07353457, -0.01282038,\n",
      "       -0.11825943, -0.42633268, -0.07852364,  0.06559303,  0.01273739,\n",
      "       -0.11505818,  0.07191648, -0.20583764, -0.43367824, -0.20896056,\n",
      "        0.03452333,  0.03583333,  0.05462287,  0.10816482,  0.01847796,\n",
      "        0.02101385,  0.12257644,  0.03339486,  0.09745789,  0.02827155],\n",
      "      dtype=float32))\n"
     ]
    }
   ],
   "source": [
    "x4 = np.random.rand(25)\n",
    "\n",
    "endval, x1, optimum, binarized, traj4 = summaryopt(x4)\n",
    "print(flux_center.two_points_flux_normalized_grad(binarized))\n",
    "traj4.append(flux_center.two_points_flux_normalized(binarized))"
   ]
  },
  {
   "cell_type": "code",
   "execution_count": 14,
   "metadata": {},
   "outputs": [
    {
     "name": "stdout",
     "output_type": "stream",
     "text": [
      "1.850393560190267\n",
      "1.850393234627128 [1. 1. 1. 1. 1. 0. 0. 0. 1. 1. 0. 1. 0. 0. 0. 1. 1. 1. 1. 0. 1. 1. 1. 1.\n",
      " 1.]\n",
      "(1.850393234627128, array([ 6.3901427e-03,  1.0127640e-01,  3.6935780e-02,  2.7482074e-02,\n",
      "       -3.9585967e-02, -6.8928756e-02, -4.5775676e-01, -8.6234443e-02,\n",
      "        9.0809755e-02, -1.2243064e-02, -1.1123909e-01,  6.4872511e-02,\n",
      "       -2.1216120e-01, -4.4679859e-01, -2.2111036e-01,  4.0194519e-02,\n",
      "        3.8183946e-02,  5.2811462e-02,  1.0174301e-01,  7.4777384e-03,\n",
      "        2.5235083e-02,  8.6603008e-02,  5.9371922e-02,  9.4015606e-02,\n",
      "        1.5942968e-04], dtype=float32))\n"
     ]
    }
   ],
   "source": [
    "x5 = np.random.rand(25)\n",
    "\n",
    "endval, x1, optimum, binarized, traj5 = summaryopt(x5)\n",
    "print(flux_center.two_points_flux_normalized_grad(binarized))\n",
    "traj5.append(flux_center.two_points_flux_normalized(binarized))"
   ]
  },
  {
   "cell_type": "code",
   "execution_count": 15,
   "metadata": {},
   "outputs": [
    {
     "name": "stdout",
     "output_type": "stream",
     "text": [
      "1.8581986024128767\n",
      "1.8274181281300446 [1. 1. 1. 1. 1. 0. 0. 0. 1. 0. 1. 1. 0. 0. 0. 1. 1. 0. 1. 1. 1. 1. 1. 1.\n",
      " 1.]\n",
      "(1.8274181281300446, array([-3.0587820e-04,  9.7255640e-02,  2.2847600e-02,  3.6782540e-02,\n",
      "       -2.3953581e-02, -9.8177075e-02, -3.8284025e-01, -7.1894884e-02,\n",
      "        5.8500994e-02, -3.9060920e-02, -3.2185629e-02,  1.5537345e-01,\n",
      "       -1.4554588e-01, -3.7303656e-01, -1.3790533e-01,  1.2721608e-02,\n",
      "        4.4911634e-02,  8.6110393e-03,  5.5973981e-02,  4.0092424e-02,\n",
      "        5.1835358e-02,  9.5544942e-02,  2.9533159e-02,  9.0392113e-02,\n",
      "        5.1073860e-02], dtype=float32))\n"
     ]
    }
   ],
   "source": [
    "x6 = np.random.rand(25)\n",
    "\n",
    "endval, x1, optimum, binarized, traj6 = summaryopt(x6)\n",
    "print(flux_center.two_points_flux_normalized_grad(binarized))\n",
    "traj6.append(flux_center.two_points_flux_normalized(binarized))"
   ]
  },
  {
   "cell_type": "code",
   "execution_count": 16,
   "metadata": {},
   "outputs": [
    {
     "name": "stdout",
     "output_type": "stream",
     "text": [
      "1.8503878181961746\n",
      "1.850393234627128 [1. 1. 1. 1. 1. 0. 0. 0. 1. 1. 0. 1. 0. 0. 0. 1. 1. 1. 1. 0. 1. 1. 1. 1.\n",
      " 1.]\n",
      "(1.850393234627128, array([ 6.3901427e-03,  1.0127640e-01,  3.6935780e-02,  2.7482074e-02,\n",
      "       -3.9585967e-02, -6.8928756e-02, -4.5775676e-01, -8.6234443e-02,\n",
      "        9.0809755e-02, -1.2243064e-02, -1.1123909e-01,  6.4872511e-02,\n",
      "       -2.1216120e-01, -4.4679859e-01, -2.2111036e-01,  4.0194519e-02,\n",
      "        3.8183946e-02,  5.2811462e-02,  1.0174301e-01,  7.4777384e-03,\n",
      "        2.5235083e-02,  8.6603008e-02,  5.9371922e-02,  9.4015606e-02,\n",
      "        1.5942968e-04], dtype=float32))\n"
     ]
    }
   ],
   "source": [
    "x7 = np.random.rand(25)\n",
    "\n",
    "endval, x1, optimum, binarized, traj7 = summaryopt(x7)\n",
    "print(flux_center.two_points_flux_normalized_grad(binarized))\n",
    "traj7.append(flux_center.two_points_flux_normalized(binarized))"
   ]
  },
  {
   "cell_type": "code",
   "execution_count": 17,
   "metadata": {},
   "outputs": [
    {
     "name": "stdout",
     "output_type": "stream",
     "text": [
      "1.850393560190267\n",
      "1.850393234627128 [1. 1. 1. 1. 1. 0. 0. 0. 1. 1. 0. 1. 0. 0. 0. 1. 1. 1. 1. 0. 1. 1. 1. 1.\n",
      " 1.]\n",
      "(1.850393234627128, array([ 6.3901427e-03,  1.0127640e-01,  3.6935780e-02,  2.7482074e-02,\n",
      "       -3.9585967e-02, -6.8928756e-02, -4.5775676e-01, -8.6234443e-02,\n",
      "        9.0809755e-02, -1.2243064e-02, -1.1123909e-01,  6.4872511e-02,\n",
      "       -2.1216120e-01, -4.4679859e-01, -2.2111036e-01,  4.0194519e-02,\n",
      "        3.8183946e-02,  5.2811462e-02,  1.0174301e-01,  7.4777384e-03,\n",
      "        2.5235083e-02,  8.6603008e-02,  5.9371922e-02,  9.4015606e-02,\n",
      "        1.5942968e-04], dtype=float32))\n"
     ]
    }
   ],
   "source": [
    "x8 = np.random.rand(25)\n",
    "\n",
    "endval, x1, optimum, binarized, traj8 = summaryopt(x8)\n",
    "print(flux_center.two_points_flux_normalized_grad(binarized))\n",
    "traj8.append(flux_center.two_points_flux_normalized(binarized))"
   ]
  },
  {
   "cell_type": "code",
   "execution_count": 18,
   "metadata": {},
   "outputs": [
    {
     "name": "stdout",
     "output_type": "stream",
     "text": [
      "1.8518730168234345\n",
      "1.8460230738408612 [1. 1. 1. 1. 1. 0. 0. 0. 1. 1. 0. 1. 0. 0. 0. 1. 1. 0. 1. 1. 1. 1. 1. 1.\n",
      " 1.]\n",
      "(1.8460230738408612, array([ 0.04375208,  0.11093634, -0.00467479,  0.03725325, -0.01484871,\n",
      "       -0.11553674, -0.3741228 , -0.05403182,  0.05970698, -0.00215643,\n",
      "       -0.05446882,  0.1507031 , -0.1381747 , -0.379577  , -0.12024852,\n",
      "        0.02104652,  0.03377256, -0.0314848 ,  0.05465342,  0.04193046,\n",
      "        0.03145603,  0.08627612,  0.0518987 ,  0.09354829,  0.07308995],\n",
      "      dtype=float32))\n"
     ]
    }
   ],
   "source": [
    "x9 = np.random.rand(25)\n",
    "\n",
    "endval, x1, optimum, binarized, traj9 = summaryopt(x9)\n",
    "print(flux_center.two_points_flux_normalized_grad(binarized))\n",
    "traj9.append(flux_center.two_points_flux_normalized(binarized))"
   ]
  },
  {
   "cell_type": "code",
   "execution_count": 19,
   "metadata": {},
   "outputs": [
    {
     "name": "stdout",
     "output_type": "stream",
     "text": [
      "1.8365462770743615\n",
      "1.836398408230717 [1. 1. 1. 1. 1. 0. 0. 0. 1. 0. 0. 1. 0. 0. 0. 1. 1. 1. 1. 0. 1. 1. 1. 1.\n",
      " 1.]\n",
      "(1.836398408230717, array([-0.01424503,  0.10376397,  0.05863156,  0.03434776, -0.01994975,\n",
      "       -0.127236  , -0.3744318 , -0.03364077,  0.05402545, -0.00185073,\n",
      "       -0.0771657 ,  0.03683331, -0.17283164, -0.44070593, -0.1809326 ,\n",
      "        0.01754319,  0.05805684,  0.01922717,  0.09622499,  0.01155798,\n",
      "        0.04582078,  0.05365283,  0.04112884,  0.09098973, -0.03164316],\n",
      "      dtype=float32))\n"
     ]
    }
   ],
   "source": [
    "x10 = np.random.rand(25)\n",
    "\n",
    "endval, x1, optimum, binarized, traj10 = summaryopt(x10)\n",
    "print(flux_center.two_points_flux_normalized_grad(binarized))\n",
    "traj10.append(flux_center.two_points_flux_normalized(binarized))"
   ]
  },
  {
   "cell_type": "code",
   "execution_count": 20,
   "metadata": {},
   "outputs": [
    {
     "name": "stdout",
     "output_type": "stream",
     "text": [
      "1.8644006759609495\n",
      "1.8639863449705834 [1. 1. 1. 1. 0. 0. 0. 0. 1. 1. 0. 1. 0. 0. 0. 1. 1. 1. 1. 0. 1. 1. 1. 1.\n",
      " 1.]\n",
      "(1.8639863449705834, array([ 0.03252653,  0.10736899,  0.01603106,  0.02263047,  0.04286891,\n",
      "       -0.08087882, -0.3851629 , -0.08142039,  0.06836051,  0.00840365,\n",
      "       -0.03704072,  0.11888152, -0.13143416, -0.3735411 , -0.1364707 ,\n",
      "        0.02342505,  0.0325315 ,  0.02696385,  0.11594532,  0.01648274,\n",
      "        0.0402171 ,  0.09819413,  0.07335426,  0.04351238, -0.02182303],\n",
      "      dtype=float32))\n"
     ]
    }
   ],
   "source": [
    "x11 = np.random.rand(25)\n",
    "\n",
    "endval, x1, optimum, binarized, traj11 = summaryopt(x11)\n",
    "print(flux_center.two_points_flux_normalized_grad(binarized))\n",
    "traj11.append(flux_center.two_points_flux_normalized(binarized))"
   ]
  },
  {
   "cell_type": "code",
   "execution_count": null,
   "metadata": {},
   "outputs": [],
   "source": []
  },
  {
   "cell_type": "code",
   "execution_count": null,
   "metadata": {},
   "outputs": [],
   "source": []
  },
  {
   "cell_type": "code",
   "execution_count": 21,
   "metadata": {},
   "outputs": [],
   "source": [
    "import numpy as np\n",
    "\n",
    "fname = \"optimizationcurve_fig9_2.txt\"\n",
    "\n",
    "A = [traj0, traj2, traj3, traj4, traj5, traj7, traj8, traj11]\n",
    "\n",
    "le = []\n",
    "for li in A:\n",
    "    le.append((len(li)))\n",
    "\n",
    "mv = np.max(le)\n",
    "\n",
    "Ar = []\n",
    "for li, n in zip(A, le):\n",
    "    temp = np.ones(mv) * li[-1]\n",
    "    temp[:n] = li[:n]\n",
    "    Ar.append(temp)\n",
    "\n",
    "Arf = np.reshape(Ar,(len(A),-1))"
   ]
  },
  {
   "cell_type": "code",
   "execution_count": 23,
   "metadata": {},
   "outputs": [
    {
     "data": {
      "text/plain": [
       "(0.0, 60.0, 0.4, 2.2)"
      ]
     },
     "execution_count": 23,
     "metadata": {},
     "output_type": "execute_result"
    },
    {
     "data": {
      "image/png": "[encoded data removed]",
      "text/plain": [
       "<Figure size 640x480 with 1 Axes>"
      ]
     },
     "metadata": {},
     "output_type": "display_data"
    }
   ],
   "source": [
    "plt.plot(np.transpose(Arf))\n",
    "plt.style.use(\"classic\")\n",
    "plt.axis(\"on\")"
   ]
  },
  {
   "cell_type": "code",
   "execution_count": 24,
   "metadata": {},
   "outputs": [],
   "source": [
    "np.savetxt(fname, Arf, delimiter=',')"
   ]
  },
  {
   "cell_type": "code",
   "execution_count": null,
   "metadata": {},
   "outputs": [],
   "source": []
  },
  {
   "cell_type": "code",
   "execution_count": null,
   "metadata": {},
   "outputs": [],
   "source": []
  }
 ],
 "metadata": {
  "kernelspec": {
   "display_name": "Python [default]",
   "language": "python",
   "name": "python3"
  },
  "language_info": {
   "codemirror_mode": {
    "name": "ipython",
    "version": 3
   },
   "file_extension": ".py",
   "mimetype": "text/x-python",
   "name": "python",
   "nbconvert_exporter": "python",
   "pygments_lexer": "ipython3",
   "version": "3.6.7"
  }
 },
 "nbformat": 4,
 "nbformat_minor": 2
}
