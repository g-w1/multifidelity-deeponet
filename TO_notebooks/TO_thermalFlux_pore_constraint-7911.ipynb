{
 "cells": [
  {
   "cell_type": "code",
   "execution_count": 24,
   "metadata": {},
   "outputs": [],
   "source": [
    "import matplotlib.pyplot as plt\n",
    "% matplotlib inline"
   ]
  },
  {
   "cell_type": "code",
   "execution_count": 25,
   "metadata": {},
   "outputs": [],
   "source": [
    "import nlopt\n",
    "import autograd.numpy as np\n",
    "import autograd\n",
    "import flux_center"
   ]
  },
  {
   "cell_type": "code",
   "execution_count": 26,
   "metadata": {},
   "outputs": [],
   "source": [
    "def penalty(x):\n",
    "    return sum(x*(1-x))\n",
    "\n",
    "def grad_penalty(x):\n",
    "    return (1 - 2 * x)\n",
    "\n",
    "def thresholding(x, eta=0.5, beta = 1):\n",
    "    return (np.tanh(eta*beta) + np.tanh((x - eta)*beta))/(np.tanh(eta*beta) + np.tanh((1 - eta)*beta))\n",
    "\n",
    "grad_thresholding = autograd.elementwise_grad(thresholding)"
   ]
  },
  {
   "cell_type": "code",
   "execution_count": 27,
   "metadata": {},
   "outputs": [],
   "source": [
    "def optimization_withthresholdingNpenalty(x1, coefpenalty=0., constraintpores = 14.5, eta=0.2, beta = 1, debug = False):\n",
    "\n",
    "    while not np.all(np.isclose( 1.*(thresholding(x1, eta=eta, beta=beta)>eta), thresholding(x1, eta=eta, beta=eta),atol=1e-01)):\n",
    "        if debug:\n",
    "            print(\"beta=\", beta)\n",
    "        def myfunc(x, grad):\n",
    "            flux, gradval = flux_center.two_points_flux_normalized_grad(np.reshape(thresholding(x, eta=eta, beta=beta),(1, 25)))\n",
    "            gradval = gradval*grad_thresholding(x, eta=eta, beta=beta)  - grad_thresholding(x, eta=eta, beta=beta)*grad_penalty(thresholding(x, eta=eta, beta=beta))*coefpenalty\n",
    "            if grad.size > 0:\n",
    "                grad[:] = np.ravel(gradval[:]).tolist() #to avoid different type returned\n",
    "                if debug:\n",
    "                    print(flux, \",\")\n",
    "            return flux-penalty(thresholding(x))*coefpenalty\n",
    "        def myconstraint(x, grad):\n",
    "            if grad.size > 0:\n",
    "                grad[:]=grad_thresholding(x, eta=eta, beta=beta)\n",
    "            return np.sum(thresholding(x))-constraintpores\n",
    "        opt = nlopt.opt(nlopt.LD_MMA, 25)\n",
    "        opt.set_lower_bounds(np.zeros(25))\n",
    "        opt.set_upper_bounds(np.ones(25))\n",
    "        opt.set_max_objective(myfunc)\n",
    "        opt.set_xtol_rel(1e-3)\n",
    "        opt.set_ftol_rel(1e-3)\n",
    "        opt.add_inequality_constraint(myconstraint, 1e-8)\n",
    "        x = opt.optimize(x1)\n",
    "        maxf = opt.last_optimum_value()\n",
    "        if np.all(np.isclose(thresholding(x1, eta=eta, beta=beta), thresholding(x, eta=eta, beta=beta))) or beta>2^16:\n",
    "            return x, beta\n",
    "        else:\n",
    "            x1 = x\n",
    "        beta = 2*beta\n",
    "    return x1, beta\n",
    "        "
   ]
  },
  {
   "cell_type": "code",
   "execution_count": null,
   "metadata": {},
   "outputs": [],
   "source": []
  },
  {
   "cell_type": "code",
   "execution_count": 6,
   "metadata": {},
   "outputs": [],
   "source": [
    "eta=0.2\n",
    "beta = 1"
   ]
  },
  {
   "cell_type": "code",
   "execution_count": 8,
   "metadata": {},
   "outputs": [],
   "source": [
    "xbest11= np.random.rand(25)\n",
    "fbest11 = 0\n",
    "x0s = []\n",
    "for i in range(100):\n",
    "    x0 = np.random.rand(25)\n",
    "    x1, beta = optimization_withthresholdingNpenalty(x0, coefpenalty=1/25, constraintpores=10.5)\n",
    "    optimum = thresholding(x1, eta=eta, beta=beta)\n",
    "    flux_center.two_points_flux_normalized_grad(optimum)\n",
    "    binarized = 1.*(thresholding(x1, eta=eta, beta=beta)>eta)\n",
    "    f, _ = flux_center.two_points_flux_normalized_grad(binarized)\n",
    "    if f>fbest11 and sum(binarized)<12:\n",
    "        fbest11=f\n",
    "        if fbest11>2.2:\n",
    "            x0s.append(x0)\n",
    "        xbest11 = x1"
   ]
  },
  {
   "cell_type": "code",
   "execution_count": 9,
   "metadata": {},
   "outputs": [
    {
     "data": {
      "text/plain": [
       "array([0., 1., 0., 1., 1., 0., 0., 0., 1., 0., 0., 1., 0., 0., 0., 1., 1.,\n",
       "       0., 1., 0., 1., 1., 0., 1., 0.])"
      ]
     },
     "execution_count": 9,
     "metadata": {},
     "output_type": "execute_result"
    }
   ],
   "source": [
    "binarized = 1.*(thresholding(xbest11, eta=eta, beta=beta)>eta)\n",
    "binarized"
   ]
  },
  {
   "cell_type": "code",
   "execution_count": 10,
   "metadata": {},
   "outputs": [],
   "source": [
    "xbest9= np.random.rand(25)\n",
    "fbest9 = 0\n",
    "x0s = []\n",
    "for i in range(100):\n",
    "    x0 = np.random.rand(25)\n",
    "    x1, beta = optimization_withthresholdingNpenalty(x0, coefpenalty=1/25, constraintpores=8.5)\n",
    "    optimum = thresholding(x1, eta=eta, beta=beta)\n",
    "    flux_center.two_points_flux_normalized_grad(optimum)\n",
    "    binarized = 1.*(thresholding(x1, eta=eta, beta=beta)>eta)\n",
    "    f, _ = flux_center.two_points_flux_normalized_grad(binarized)\n",
    "    if f>fbest9 and sum(binarized)<10:\n",
    "        fbest9=f\n",
    "        if fbest9>2.2:\n",
    "            x0s.append(x0)\n",
    "        xbest9 = x1"
   ]
  },
  {
   "cell_type": "code",
   "execution_count": 11,
   "metadata": {},
   "outputs": [
    {
     "data": {
      "text/plain": [
       "array([0., 1., 0., 1., 0., 0., 0., 0., 1., 0., 0., 1., 0., 0., 0., 0., 1.,\n",
       "       0., 1., 0., 1., 1., 0., 1., 0.])"
      ]
     },
     "execution_count": 11,
     "metadata": {},
     "output_type": "execute_result"
    }
   ],
   "source": [
    "binarized = 1.*(thresholding(xbest9, eta=eta, beta=beta)>eta)\n",
    "binarized"
   ]
  },
  {
   "cell_type": "code",
   "execution_count": 28,
   "metadata": {},
   "outputs": [
    {
     "name": "stdout",
     "output_type": "stream",
     "text": [
      "7.0 0 [0. 1. 0. 1. 0. 0. 0. 0. 0. 0. 0. 1. 0. 0. 0. 0. 1. 0. 1. 0. 0. 1. 0. 1.\n",
      " 0.]\n"
     ]
    }
   ],
   "source": [
    "xbest7= np.random.rand(25)\n",
    "fbest7 = 0\n",
    "x0s = []\n",
    "for i in range(100):\n",
    "    x0 = np.random.rand(25)\n",
    "    x1, beta = optimization_withthresholdingNpenalty(x0, coefpenalty=1/25, constraintpores=6.5)\n",
    "    optimum = thresholding(x1, eta=eta, beta=beta)\n",
    "    flux_center.two_points_flux_normalized_grad(optimum)\n",
    "    binarized = 1.*(thresholding(x1, eta=eta, beta=beta)>eta)\n",
    "    f, _ = flux_center.two_points_flux_normalized_grad(binarized)\n",
    "    if f>fbest7 and sum(binarized)<7.5:\n",
    "        print(sum(binarized), fbest7, binarized)\n",
    "        fbest7=f\n",
    "        if fbest7>2.2:\n",
    "            x0s.append(x0)\n",
    "        xbest7 = x1"
   ]
  },
  {
   "cell_type": "code",
   "execution_count": 36,
   "metadata": {},
   "outputs": [
    {
     "data": {
      "text/plain": [
       "array([0., 1., 0., 1., 0., 0., 0., 0., 0., 0., 0., 1., 0., 0., 0., 0., 1.,\n",
       "       0., 1., 0., 0., 1., 0., 1., 0.])"
      ]
     },
     "execution_count": 36,
     "metadata": {},
     "output_type": "execute_result"
    }
   ],
   "source": [
    "binarized = 1.*(thresholding(xbest7, eta=eta, beta=beta)>eta)\n",
    "binarized"
   ]
  },
  {
   "cell_type": "code",
   "execution_count": null,
   "metadata": {},
   "outputs": [],
   "source": []
  }
 ],
 "metadata": {
  "kernelspec": {
   "display_name": "Python [default]",
   "language": "python",
   "name": "python3"
  },
  "language_info": {
   "codemirror_mode": {
    "name": "ipython",
    "version": 3
   },
   "file_extension": ".py",
   "mimetype": "text/x-python",
   "name": "python",
   "nbconvert_exporter": "python",
   "pygments_lexer": "ipython3",
   "version": "3.6.7"
  }
 },
 "nbformat": 4,
 "nbformat_minor": 2
}
